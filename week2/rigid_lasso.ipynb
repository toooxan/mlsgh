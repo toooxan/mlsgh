{
 "cells": [
  {
   "cell_type": "code",
   "execution_count": 34,
   "id": "19015c33-6f79-4a80-9adb-67e1c44c1d3e",
   "metadata": {},
   "outputs": [],
   "source": [
    "import pandas as pd\n",
    "import numpy as np\n",
    "import matplotlib.pyplot as plt\n",
    "\n",
    "from sklearn.metrics import mean_squared_error\n",
    "from sklearn.linear_model import Ridge"
   ]
  },
  {
   "cell_type": "code",
   "execution_count": 4,
   "id": "efda2625-50e3-4306-8efe-42a59f00798b",
   "metadata": {},
   "outputs": [],
   "source": [
    "df = pd.read_csv(\"C:/Users/al142367/Downloads/Hitters.csv\")"
   ]
  },
  {
   "cell_type": "code",
   "execution_count": 6,
   "id": "e44d396d-98a2-48dd-8fe2-e985cec0b1aa",
   "metadata": {},
   "outputs": [],
   "source": [
    "df = df.dropna().drop('Player', axis = 1)"
   ]
  },
  {
   "cell_type": "code",
   "execution_count": 11,
   "id": "1759e0bc-ae2a-4b35-938a-a087fa2ad494",
   "metadata": {},
   "outputs": [
    {
     "data": {
      "text/html": [
       "<div>\n",
       "<style scoped>\n",
       "    .dataframe tbody tr th:only-of-type {\n",
       "        vertical-align: middle;\n",
       "    }\n",
       "\n",
       "    .dataframe tbody tr th {\n",
       "        vertical-align: top;\n",
       "    }\n",
       "\n",
       "    .dataframe thead th {\n",
       "        text-align: right;\n",
       "    }\n",
       "</style>\n",
       "<table border=\"1\" class=\"dataframe\">\n",
       "  <thead>\n",
       "    <tr style=\"text-align: right;\">\n",
       "      <th></th>\n",
       "      <th>AtBat</th>\n",
       "      <th>Hits</th>\n",
       "      <th>HmRun</th>\n",
       "      <th>Runs</th>\n",
       "      <th>RBI</th>\n",
       "      <th>Walks</th>\n",
       "      <th>Years</th>\n",
       "      <th>CAtBat</th>\n",
       "      <th>CHits</th>\n",
       "      <th>CHmRun</th>\n",
       "      <th>CRuns</th>\n",
       "      <th>CRBI</th>\n",
       "      <th>CWalks</th>\n",
       "      <th>League</th>\n",
       "      <th>Division</th>\n",
       "      <th>PutOuts</th>\n",
       "      <th>Assists</th>\n",
       "      <th>Errors</th>\n",
       "      <th>Salary</th>\n",
       "      <th>NewLeague</th>\n",
       "    </tr>\n",
       "  </thead>\n",
       "  <tbody>\n",
       "    <tr>\n",
       "      <th>1</th>\n",
       "      <td>315</td>\n",
       "      <td>81</td>\n",
       "      <td>7</td>\n",
       "      <td>24</td>\n",
       "      <td>38</td>\n",
       "      <td>39</td>\n",
       "      <td>14</td>\n",
       "      <td>3449</td>\n",
       "      <td>835</td>\n",
       "      <td>69</td>\n",
       "      <td>321</td>\n",
       "      <td>414</td>\n",
       "      <td>375</td>\n",
       "      <td>N</td>\n",
       "      <td>W</td>\n",
       "      <td>632</td>\n",
       "      <td>43</td>\n",
       "      <td>10</td>\n",
       "      <td>475.0</td>\n",
       "      <td>N</td>\n",
       "    </tr>\n",
       "    <tr>\n",
       "      <th>2</th>\n",
       "      <td>479</td>\n",
       "      <td>130</td>\n",
       "      <td>18</td>\n",
       "      <td>66</td>\n",
       "      <td>72</td>\n",
       "      <td>76</td>\n",
       "      <td>3</td>\n",
       "      <td>1624</td>\n",
       "      <td>457</td>\n",
       "      <td>63</td>\n",
       "      <td>224</td>\n",
       "      <td>266</td>\n",
       "      <td>263</td>\n",
       "      <td>A</td>\n",
       "      <td>W</td>\n",
       "      <td>880</td>\n",
       "      <td>82</td>\n",
       "      <td>14</td>\n",
       "      <td>480.0</td>\n",
       "      <td>A</td>\n",
       "    </tr>\n",
       "    <tr>\n",
       "      <th>3</th>\n",
       "      <td>496</td>\n",
       "      <td>141</td>\n",
       "      <td>20</td>\n",
       "      <td>65</td>\n",
       "      <td>78</td>\n",
       "      <td>37</td>\n",
       "      <td>11</td>\n",
       "      <td>5628</td>\n",
       "      <td>1575</td>\n",
       "      <td>225</td>\n",
       "      <td>828</td>\n",
       "      <td>838</td>\n",
       "      <td>354</td>\n",
       "      <td>N</td>\n",
       "      <td>E</td>\n",
       "      <td>200</td>\n",
       "      <td>11</td>\n",
       "      <td>3</td>\n",
       "      <td>500.0</td>\n",
       "      <td>N</td>\n",
       "    </tr>\n",
       "    <tr>\n",
       "      <th>4</th>\n",
       "      <td>321</td>\n",
       "      <td>87</td>\n",
       "      <td>10</td>\n",
       "      <td>39</td>\n",
       "      <td>42</td>\n",
       "      <td>30</td>\n",
       "      <td>2</td>\n",
       "      <td>396</td>\n",
       "      <td>101</td>\n",
       "      <td>12</td>\n",
       "      <td>48</td>\n",
       "      <td>46</td>\n",
       "      <td>33</td>\n",
       "      <td>N</td>\n",
       "      <td>E</td>\n",
       "      <td>805</td>\n",
       "      <td>40</td>\n",
       "      <td>4</td>\n",
       "      <td>91.5</td>\n",
       "      <td>N</td>\n",
       "    </tr>\n",
       "    <tr>\n",
       "      <th>5</th>\n",
       "      <td>594</td>\n",
       "      <td>169</td>\n",
       "      <td>4</td>\n",
       "      <td>74</td>\n",
       "      <td>51</td>\n",
       "      <td>35</td>\n",
       "      <td>11</td>\n",
       "      <td>4408</td>\n",
       "      <td>1133</td>\n",
       "      <td>19</td>\n",
       "      <td>501</td>\n",
       "      <td>336</td>\n",
       "      <td>194</td>\n",
       "      <td>A</td>\n",
       "      <td>W</td>\n",
       "      <td>282</td>\n",
       "      <td>421</td>\n",
       "      <td>25</td>\n",
       "      <td>750.0</td>\n",
       "      <td>A</td>\n",
       "    </tr>\n",
       "    <tr>\n",
       "      <th>...</th>\n",
       "      <td>...</td>\n",
       "      <td>...</td>\n",
       "      <td>...</td>\n",
       "      <td>...</td>\n",
       "      <td>...</td>\n",
       "      <td>...</td>\n",
       "      <td>...</td>\n",
       "      <td>...</td>\n",
       "      <td>...</td>\n",
       "      <td>...</td>\n",
       "      <td>...</td>\n",
       "      <td>...</td>\n",
       "      <td>...</td>\n",
       "      <td>...</td>\n",
       "      <td>...</td>\n",
       "      <td>...</td>\n",
       "      <td>...</td>\n",
       "      <td>...</td>\n",
       "      <td>...</td>\n",
       "      <td>...</td>\n",
       "    </tr>\n",
       "    <tr>\n",
       "      <th>317</th>\n",
       "      <td>497</td>\n",
       "      <td>127</td>\n",
       "      <td>7</td>\n",
       "      <td>65</td>\n",
       "      <td>48</td>\n",
       "      <td>37</td>\n",
       "      <td>5</td>\n",
       "      <td>2703</td>\n",
       "      <td>806</td>\n",
       "      <td>32</td>\n",
       "      <td>379</td>\n",
       "      <td>311</td>\n",
       "      <td>138</td>\n",
       "      <td>N</td>\n",
       "      <td>E</td>\n",
       "      <td>325</td>\n",
       "      <td>9</td>\n",
       "      <td>3</td>\n",
       "      <td>700.0</td>\n",
       "      <td>N</td>\n",
       "    </tr>\n",
       "    <tr>\n",
       "      <th>318</th>\n",
       "      <td>492</td>\n",
       "      <td>136</td>\n",
       "      <td>5</td>\n",
       "      <td>76</td>\n",
       "      <td>50</td>\n",
       "      <td>94</td>\n",
       "      <td>12</td>\n",
       "      <td>5511</td>\n",
       "      <td>1511</td>\n",
       "      <td>39</td>\n",
       "      <td>897</td>\n",
       "      <td>451</td>\n",
       "      <td>875</td>\n",
       "      <td>A</td>\n",
       "      <td>E</td>\n",
       "      <td>313</td>\n",
       "      <td>381</td>\n",
       "      <td>20</td>\n",
       "      <td>875.0</td>\n",
       "      <td>A</td>\n",
       "    </tr>\n",
       "    <tr>\n",
       "      <th>319</th>\n",
       "      <td>475</td>\n",
       "      <td>126</td>\n",
       "      <td>3</td>\n",
       "      <td>61</td>\n",
       "      <td>43</td>\n",
       "      <td>52</td>\n",
       "      <td>6</td>\n",
       "      <td>1700</td>\n",
       "      <td>433</td>\n",
       "      <td>7</td>\n",
       "      <td>217</td>\n",
       "      <td>93</td>\n",
       "      <td>146</td>\n",
       "      <td>A</td>\n",
       "      <td>W</td>\n",
       "      <td>37</td>\n",
       "      <td>113</td>\n",
       "      <td>7</td>\n",
       "      <td>385.0</td>\n",
       "      <td>A</td>\n",
       "    </tr>\n",
       "    <tr>\n",
       "      <th>320</th>\n",
       "      <td>573</td>\n",
       "      <td>144</td>\n",
       "      <td>9</td>\n",
       "      <td>85</td>\n",
       "      <td>60</td>\n",
       "      <td>78</td>\n",
       "      <td>8</td>\n",
       "      <td>3198</td>\n",
       "      <td>857</td>\n",
       "      <td>97</td>\n",
       "      <td>470</td>\n",
       "      <td>420</td>\n",
       "      <td>332</td>\n",
       "      <td>A</td>\n",
       "      <td>E</td>\n",
       "      <td>1314</td>\n",
       "      <td>131</td>\n",
       "      <td>12</td>\n",
       "      <td>960.0</td>\n",
       "      <td>A</td>\n",
       "    </tr>\n",
       "    <tr>\n",
       "      <th>321</th>\n",
       "      <td>631</td>\n",
       "      <td>170</td>\n",
       "      <td>9</td>\n",
       "      <td>77</td>\n",
       "      <td>44</td>\n",
       "      <td>31</td>\n",
       "      <td>11</td>\n",
       "      <td>4908</td>\n",
       "      <td>1457</td>\n",
       "      <td>30</td>\n",
       "      <td>775</td>\n",
       "      <td>357</td>\n",
       "      <td>249</td>\n",
       "      <td>A</td>\n",
       "      <td>W</td>\n",
       "      <td>408</td>\n",
       "      <td>4</td>\n",
       "      <td>3</td>\n",
       "      <td>1000.0</td>\n",
       "      <td>A</td>\n",
       "    </tr>\n",
       "  </tbody>\n",
       "</table>\n",
       "<p>263 rows × 20 columns</p>\n",
       "</div>"
      ],
      "text/plain": [
       "     AtBat  Hits  HmRun  Runs  RBI  Walks  Years  CAtBat  CHits  CHmRun  \\\n",
       "1      315    81      7    24   38     39     14    3449    835      69   \n",
       "2      479   130     18    66   72     76      3    1624    457      63   \n",
       "3      496   141     20    65   78     37     11    5628   1575     225   \n",
       "4      321    87     10    39   42     30      2     396    101      12   \n",
       "5      594   169      4    74   51     35     11    4408   1133      19   \n",
       "..     ...   ...    ...   ...  ...    ...    ...     ...    ...     ...   \n",
       "317    497   127      7    65   48     37      5    2703    806      32   \n",
       "318    492   136      5    76   50     94     12    5511   1511      39   \n",
       "319    475   126      3    61   43     52      6    1700    433       7   \n",
       "320    573   144      9    85   60     78      8    3198    857      97   \n",
       "321    631   170      9    77   44     31     11    4908   1457      30   \n",
       "\n",
       "     CRuns  CRBI  CWalks League Division  PutOuts  Assists  Errors  Salary  \\\n",
       "1      321   414     375      N        W      632       43      10   475.0   \n",
       "2      224   266     263      A        W      880       82      14   480.0   \n",
       "3      828   838     354      N        E      200       11       3   500.0   \n",
       "4       48    46      33      N        E      805       40       4    91.5   \n",
       "5      501   336     194      A        W      282      421      25   750.0   \n",
       "..     ...   ...     ...    ...      ...      ...      ...     ...     ...   \n",
       "317    379   311     138      N        E      325        9       3   700.0   \n",
       "318    897   451     875      A        E      313      381      20   875.0   \n",
       "319    217    93     146      A        W       37      113       7   385.0   \n",
       "320    470   420     332      A        E     1314      131      12   960.0   \n",
       "321    775   357     249      A        W      408        4       3  1000.0   \n",
       "\n",
       "    NewLeague  \n",
       "1           N  \n",
       "2           A  \n",
       "3           N  \n",
       "4           N  \n",
       "5           A  \n",
       "..        ...  \n",
       "317         N  \n",
       "318         A  \n",
       "319         A  \n",
       "320         A  \n",
       "321         A  \n",
       "\n",
       "[263 rows x 20 columns]"
      ]
     },
     "execution_count": 11,
     "metadata": {},
     "output_type": "execute_result"
    }
   ],
   "source": [
    "df"
   ]
  },
  {
   "cell_type": "code",
   "execution_count": 29,
   "id": "4fea96cf-e008-4f7d-9e78-45874c47d05f",
   "metadata": {},
   "outputs": [],
   "source": [
    "X = df['Salary'].values.reshape(-1,1)\n",
    "y = df.drop(columns=['Salary', 'League','Division','NewLeague'])"
   ]
  },
  {
   "cell_type": "code",
   "execution_count": 26,
   "id": "62938665-97be-472a-acab-a7c155beadfa",
   "metadata": {},
   "outputs": [
    {
     "data": {
      "text/plain": [
       "array([1.00000000e+10, 7.56463328e+09, 5.72236766e+09, 4.32876128e+09,\n",
       "       3.27454916e+09, 2.47707636e+09, 1.87381742e+09, 1.41747416e+09,\n",
       "       1.07226722e+09, 8.11130831e+08, 6.13590727e+08, 4.64158883e+08,\n",
       "       3.51119173e+08, 2.65608778e+08, 2.00923300e+08, 1.51991108e+08,\n",
       "       1.14975700e+08, 8.69749003e+07, 6.57933225e+07, 4.97702356e+07,\n",
       "       3.76493581e+07, 2.84803587e+07, 2.15443469e+07, 1.62975083e+07,\n",
       "       1.23284674e+07, 9.32603347e+06, 7.05480231e+06, 5.33669923e+06,\n",
       "       4.03701726e+06, 3.05385551e+06, 2.31012970e+06, 1.74752840e+06,\n",
       "       1.32194115e+06, 1.00000000e+06, 7.56463328e+05, 5.72236766e+05,\n",
       "       4.32876128e+05, 3.27454916e+05, 2.47707636e+05, 1.87381742e+05,\n",
       "       1.41747416e+05, 1.07226722e+05, 8.11130831e+04, 6.13590727e+04,\n",
       "       4.64158883e+04, 3.51119173e+04, 2.65608778e+04, 2.00923300e+04,\n",
       "       1.51991108e+04, 1.14975700e+04, 8.69749003e+03, 6.57933225e+03,\n",
       "       4.97702356e+03, 3.76493581e+03, 2.84803587e+03, 2.15443469e+03,\n",
       "       1.62975083e+03, 1.23284674e+03, 9.32603347e+02, 7.05480231e+02,\n",
       "       5.33669923e+02, 4.03701726e+02, 3.05385551e+02, 2.31012970e+02,\n",
       "       1.74752840e+02, 1.32194115e+02, 1.00000000e+02, 7.56463328e+01,\n",
       "       5.72236766e+01, 4.32876128e+01, 3.27454916e+01, 2.47707636e+01,\n",
       "       1.87381742e+01, 1.41747416e+01, 1.07226722e+01, 8.11130831e+00,\n",
       "       6.13590727e+00, 4.64158883e+00, 3.51119173e+00, 2.65608778e+00,\n",
       "       2.00923300e+00, 1.51991108e+00, 1.14975700e+00, 8.69749003e-01,\n",
       "       6.57933225e-01, 4.97702356e-01, 3.76493581e-01, 2.84803587e-01,\n",
       "       2.15443469e-01, 1.62975083e-01, 1.23284674e-01, 9.32603347e-02,\n",
       "       7.05480231e-02, 5.33669923e-02, 4.03701726e-02, 3.05385551e-02,\n",
       "       2.31012970e-02, 1.74752840e-02, 1.32194115e-02, 1.00000000e-02])"
      ]
     },
     "execution_count": 26,
     "metadata": {},
     "output_type": "execute_result"
    }
   ],
   "source": [
    "alphas = 10**np.linspace(10, -2, 100)\n",
    "alphas"
   ]
  },
  {
   "cell_type": "code",
   "execution_count": 31,
   "id": "17cfe029-5c31-45bd-b74d-8a33db757947",
   "metadata": {},
   "outputs": [
    {
     "data": {
      "text/plain": [
       "(100, 16, 1)"
      ]
     },
     "execution_count": 31,
     "metadata": {},
     "output_type": "execute_result"
    }
   ],
   "source": [
    "ridge = Ridge()\n",
    "\n",
    "coefs = []\n",
    "\n",
    "for a in alphas:\n",
    "    ridge.set_params(alpha = a)\n",
    "    ridge.fit(X, y)\n",
    "    coefs.append(ridge.coef_)\n",
    "\n",
    "np.shape(coefs)"
   ]
  },
  {
   "cell_type": "code",
   "execution_count": 36,
   "id": "1096ec65-648e-4058-91df-bd604ebc077c",
   "metadata": {},
   "outputs": [
    {
     "data": {
      "image/png": "[encoded data removed]",
      "text/plain": [
       "<Figure size 640x480 with 1 Axes>"
      ]
     },
     "metadata": {},
     "output_type": "display_data"
    }
   ],
   "source": [
    "coefs = np.array(coefs)\n",
    "\n",
    "coefs = coefs.reshape(-1, 16)\n",
    "\n",
    "fig, ax = plt.subplots()\n",
    "\n",
    "# Plot the data\n",
    "ax.plot(alphas, coefs)\n",
    "\n",
    "# Set the x-axis to a logarithmic scale\n",
    "ax.set_xscale('log')\n",
    "\n",
    "# Add labels\n",
    "ax.set_xlabel('Alpha')\n",
    "ax.set_ylabel('Coefficients')\n",
    "\n",
    "# Display the plot\n",
    "plt.show()\n"
   ]
  },
  {
   "cell_type": "code",
   "execution_count": 38,
   "id": "ff8f56b9-085f-458a-88b1-ef51b662eef4",
   "metadata": {},
   "outputs": [],
   "source": [
    "from sklearn.model_selection import train_test_split\n",
    "\n",
    "X_train, X_test, y_train, y_test = train_test_split(X, y, test_size = 0.5, random_state = 1)"
   ]
  },
  {
   "cell_type": "code",
   "execution_count": 39,
   "id": "f8b1aa97-f8a3-40a3-8b3e-ed9d46df17ed",
   "metadata": {},
   "outputs": [
    {
     "name": "stdout",
     "output_type": "stream",
     "text": [
      "[[ 1.21211946e-01]\n",
      " [ 4.30056755e-02]\n",
      " [ 5.69135949e-03]\n",
      " [ 2.24400828e-02]\n",
      " [ 2.70102859e-02]\n",
      " [ 2.21588552e-02]\n",
      " [ 3.87956999e-03]\n",
      " [ 2.43714804e+00]\n",
      " [ 7.38226216e-01]\n",
      " [ 9.98216055e-02]\n",
      " [ 3.76547771e-01]\n",
      " [ 4.16717785e-01]\n",
      " [ 2.61718098e-01]\n",
      " [ 2.79869501e-01]\n",
      " [-2.25658168e-03]\n",
      " [ 3.62058221e-04]]\n"
     ]
    }
   ],
   "source": [
    "ridge2 = Ridge(alpha = 4)\n",
    "\n",
    "ridge2.fit(X_train, y_train)\n",
    "\n",
    "pred2 = ridge2.predict(X_test)\n",
    "\n",
    "print(ridge2.coef_)"
   ]
  },
  {
   "cell_type": "code",
   "execution_count": 41,
   "id": "a3e20d09-aad4-4204-826c-5318417eab01",
   "metadata": {},
   "outputs": [
    {
     "ename": "AttributeError",
     "evalue": "'numpy.ndarray' object has no attribute 'columns'",
     "output_type": "error",
     "traceback": [
      "\u001b[1;31m---------------------------------------------------------------------------\u001b[0m",
      "\u001b[1;31mAttributeError\u001b[0m                            Traceback (most recent call last)",
      "Cell \u001b[1;32mIn[41], line 1\u001b[0m\n\u001b[1;32m----> 1\u001b[0m \u001b[38;5;28mprint\u001b[39m(pd\u001b[38;5;241m.\u001b[39mSeries(ridge2\u001b[38;5;241m.\u001b[39mcoef_, index \u001b[38;5;241m=\u001b[39m X\u001b[38;5;241m.\u001b[39mcolumns))\n",
      "\u001b[1;31mAttributeError\u001b[0m: 'numpy.ndarray' object has no attribute 'columns'"
     ]
    }
   ],
   "source": [
    "print(pd.Series(ridge2.coef_, index = X.columns))"
   ]
  },
  {
   "cell_type": "code",
   "execution_count": 42,
   "id": "d2555f52-a0e2-496e-8278-e5aa637f3123",
   "metadata": {},
   "outputs": [
    {
     "name": "stdout",
     "output_type": "stream",
     "text": [
      "261834.4575540349\n"
     ]
    }
   ],
   "source": [
    "print(mean_squared_error(y_test, pred2))"
   ]
  },
  {
   "cell_type": "code",
   "execution_count": 44,
   "id": "058d9eb4-06cd-4896-89a4-a14002800b5c",
   "metadata": {},
   "outputs": [
    {
     "name": "stdout",
     "output_type": "stream",
     "text": [
      "[[ 3.68620761e-04]\n",
      " [ 1.30785664e-04]\n",
      " [ 1.73081394e-05]\n",
      " [ 6.82431117e-05]\n",
      " [ 8.21416737e-05]\n",
      " [ 6.73878632e-05]\n",
      " [ 1.17982599e-05]\n",
      " [ 7.41167346e-03]\n",
      " [ 2.24503869e-03]\n",
      " [ 3.03570047e-04]\n",
      " [ 1.14512909e-03]\n",
      " [ 1.26729115e-03]\n",
      " [ 7.95917624e-04]\n",
      " [ 8.51118324e-04]\n",
      " [-6.86254847e-06]\n",
      " [ 1.10106455e-06]]\n"
     ]
    },
    {
     "ename": "AttributeError",
     "evalue": "'numpy.ndarray' object has no attribute 'columns'",
     "output_type": "error",
     "traceback": [
      "\u001b[1;31m---------------------------------------------------------------------------\u001b[0m",
      "\u001b[1;31mAttributeError\u001b[0m                            Traceback (most recent call last)",
      "Cell \u001b[1;32mIn[44], line 9\u001b[0m\n\u001b[0;32m      5\u001b[0m pred3 \u001b[38;5;241m=\u001b[39m ridge3\u001b[38;5;241m.\u001b[39mpredict(X_test)\n\u001b[0;32m      7\u001b[0m \u001b[38;5;28mprint\u001b[39m(ridge3\u001b[38;5;241m.\u001b[39mcoef_)\n\u001b[1;32m----> 9\u001b[0m \u001b[38;5;28mprint\u001b[39m(pd\u001b[38;5;241m.\u001b[39mSeries(ridge3\u001b[38;5;241m.\u001b[39mcoef_, index \u001b[38;5;241m=\u001b[39m X\u001b[38;5;241m.\u001b[39mcolumns))\n",
      "\u001b[1;31mAttributeError\u001b[0m: 'numpy.ndarray' object has no attribute 'columns'"
     ]
    }
   ],
   "source": [
    "ridge3 = Ridge(alpha = 10**10)\n",
    "\n",
    "ridge3.fit(X_train, y_train)\n",
    "\n",
    "pred3 = ridge3.predict(X_test)\n",
    "\n",
    "print(ridge3.coef_)\n",
    "\n",
    "print(pd.Series(ridge3.coef_, index = X.columns))"
   ]
  },
  {
   "cell_type": "code",
   "execution_count": 45,
   "id": "5bbad3b0-6cc8-42fd-aaa7-4a205b5c7572",
   "metadata": {},
   "outputs": [
    {
     "name": "stdout",
     "output_type": "stream",
     "text": [
      "366355.7668025955\n"
     ]
    }
   ],
   "source": [
    "print(mean_squared_error(y_test, pred3))"
   ]
  },
  {
   "cell_type": "code",
   "execution_count": 47,
   "id": "bd97e5cc-9678-44c7-9436-57db31b725a3",
   "metadata": {},
   "outputs": [
    {
     "name": "stdout",
     "output_type": "stream",
     "text": [
      "[[ 1.21211962e-01]\n",
      " [ 4.30056812e-02]\n",
      " [ 5.69136024e-03]\n",
      " [ 2.24400857e-02]\n",
      " [ 2.70102894e-02]\n",
      " [ 2.21588581e-02]\n",
      " [ 3.87957050e-03]\n",
      " [ 2.43714836e+00]\n",
      " [ 7.38226313e-01]\n",
      " [ 9.98216186e-02]\n",
      " [ 3.76547820e-01]\n",
      " [ 4.16717839e-01]\n",
      " [ 2.61718132e-01]\n",
      " [ 2.79869538e-01]\n",
      " [-2.25658198e-03]\n",
      " [ 3.62058268e-04]]\n",
      "261834.4575540349\n"
     ]
    }
   ],
   "source": [
    "ridge4 = Ridge(alpha = 0)\n",
    "\n",
    "ridge4.fit(X_train, y_train)\n",
    "\n",
    "pred4 = ridge2.predict(X_test)\n",
    "\n",
    "print(ridge4.coef_)\n",
    "\n",
    "\n",
    "print(mean_squared_error(y_test, pred4))"
   ]
  },
  {
   "cell_type": "code",
   "execution_count": 52,
   "id": "f142c9a7-b867-4d26-95fa-7dc36cacc3ec",
   "metadata": {},
   "outputs": [
    {
     "data": {
      "text/plain": [
       "2310129.700083158"
      ]
     },
     "execution_count": 52,
     "metadata": {},
     "output_type": "execute_result"
    }
   ],
   "source": [
    "from sklearn.linear_model import RidgeCV\n",
    "\n",
    "ridgecv = RidgeCV(alphas = alphas)\n",
    "\n",
    "ridgecv.fit(X_train, y_train)\n",
    "\n",
    "ridgecv.alpha_"
   ]
  },
  {
   "cell_type": "code",
   "execution_count": 53,
   "id": "c70b7f3a-d8d3-4e2d-afb8-b1f612840f31",
   "metadata": {},
   "outputs": [
    {
     "name": "stdout",
     "output_type": "stream",
     "text": [
      "[[ 1.12678590e-01]\n",
      " [ 3.99780634e-02]\n",
      " [ 5.29068612e-03]\n",
      " [ 2.08602944e-02]\n",
      " [ 2.51087539e-02]\n",
      " [ 2.05988653e-02]\n",
      " [ 3.60644713e-03]\n",
      " [ 2.26557210e+00]\n",
      " [ 6.86254874e-01]\n",
      " [ 9.27941352e-02]\n",
      " [ 3.50038698e-01]\n",
      " [ 3.87380730e-01]\n",
      " [ 2.43293067e-01]\n",
      " [ 2.60166606e-01]\n",
      " [-2.09771767e-03]\n",
      " [ 3.36569216e-04]]\n",
      "264299.536170463\n"
     ]
    }
   ],
   "source": [
    "ridge5 = Ridge(alpha = 2310129.700083158)\n",
    "\n",
    "ridge5.fit(X_train, y_train)\n",
    "\n",
    "pred5 = ridge5.predict(X_test)\n",
    "\n",
    "print(ridge5.coef_)\n",
    "\n",
    "print(mean_squared_error(y_test, pred5))"
   ]
  },
  {
   "cell_type": "code",
   "execution_count": 60,
   "id": "863fe3f7-729c-4095-b9c6-ac04906ea2ac",
   "metadata": {},
   "outputs": [
    {
     "data": {
      "image/png": "[encoded data removed]",
      "text/plain": [
       "<Figure size 800x600 with 1 Axes>"
      ]
     },
     "metadata": {},
     "output_type": "display_data"
    }
   ],
   "source": [
    "from sklearn.linear_model import Lasso\n",
    "import matplotlib.pyplot as plt\n",
    "import numpy as np\n",
    "\n",
    "#LASSO\n",
    "\n",
    "# Example data and alphas\n",
    "alphas = np.logspace(-6, 6, 100)  # Example alphas\n",
    "coefs = []\n",
    "\n",
    "# Assuming you have the dataset and X, y defined somewhere\n",
    "# for each alpha value, fit a Lasso model and store coefficients\n",
    "for alpha in alphas:\n",
    "    lasso = Lasso(alpha=alpha)\n",
    "    lasso.fit(X, y)\n",
    "    coefs.append(lasso.coef_)\n",
    "\n",
    "# Convert coefs list to a numpy array for proper plotting\n",
    "coefs = np.array(coefs)\n",
    "\n",
    "# Now plot, adjusting the axes to avoid dimension mismatch\n",
    "plt.figure(figsize=(8, 6))\n",
    "ax = plt.gca()\n",
    "\n",
    "# Plot the coefficients for each feature\n",
    "for i in range(coefs.shape[1]):  # Iterate over each feature's coefficient\n",
    "    ax.plot(alphas, coefs[:, i], label=f\"Feature {i+1}\")\n",
    "\n",
    "ax.set_xscale('log')\n",
    "ax.set_xlabel('Alpha')\n",
    "ax.set_ylabel('Coefficients')\n",
    "ax.legend(loc='best')\n",
    "plt.show()\n"
   ]
  },
  {
   "cell_type": "code",
   "execution_count": 65,
   "id": "2f7e5590-15dd-4f20-ba2e-a35f22ab8ccf",
   "metadata": {},
   "outputs": [
    {
     "data": {
      "text/plain": [
       "366903.77647291025"
      ]
     },
     "execution_count": 65,
     "metadata": {},
     "output_type": "execute_result"
    }
   ],
   "source": [
    "from sklearn.linear_model import LassoCV\n",
    "\n",
    "lassocv = LassoCV(alphas = alphas)\n",
    "\n",
    "lasso.fit(X_train, y_train)\n",
    "\n",
    "mean_squared_error(y_test, lasso.predict(X_test))"
   ]
  },
  {
   "cell_type": "code",
   "execution_count": null,
   "id": "009874aa-3a27-4cc7-8fad-3c8ce3314f04",
   "metadata": {},
   "outputs": [],
   "source": [
    "pd"
   ]
  }
 ],
 "metadata": {
  "kernelspec": {
   "display_name": "Python 3 (ipykernel)",
   "language": "python",
   "name": "python3"
  },
  "language_info": {
   "codemirror_mode": {
    "name": "ipython",
    "version": 3
   },
   "file_extension": ".py",
   "mimetype": "text/x-python",
   "name": "python",
   "nbconvert_exporter": "python",
   "pygments_lexer": "ipython3",
   "version": "3.12.7"
  }
 },
 "nbformat": 4,
 "nbformat_minor": 5
}
